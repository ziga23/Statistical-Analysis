{
  "nbformat": 4,
  "nbformat_minor": 0,
  "metadata": {
    "colab": {
      "provenance": []
    },
    "kernelspec": {
      "name": "python3",
      "display_name": "Python 3"
    },
    "language_info": {
      "name": "python"
    }
  },
  "cells": [
    {
      "cell_type": "code",
      "source": [
        "import numpy as np\n",
        "import pandas as pd\n",
        "\n",
        "import scipy.stats as stats\n",
        "from scipy.stats import ttest_1samp\n",
        "from sklearn.preprocessing import StandardScaler\n",
        "\n",
        "import matplotlib.pyplot as plt\n",
        "import seaborn as sns\n",
        "from scipy.stats import ttest_1samp, t\n",
        "from statsmodels.stats.power import TTestPower"
      ],
      "metadata": {
        "id": "U_EGPSRuXmLi"
      },
      "execution_count": 1,
      "outputs": []
    },
    {
      "cell_type": "markdown",
      "source": [
        "Есть сеть кофейн, с высоким потоком клиентов. Каждый день сотни покупателей пользуются стандартными кассами для завершения своих покупок. Владельцы уверены, что их текущая система обслуживания является эффективной и что клиенты проводят в очереди у касс не более 3:50 минут. Однако, после нескольких жалоб клиентов на длительное ожидание, руководство решило провести детальный анализ времени ожидания, чтобы подтвердить или опровергнуть свою гипотезу и улучшить качество обслуживания.\n",
        "\n",
        "\n",
        "---\n",
        "**Задача:** Провести анализ среднего времени ожидания клиентов в очереди к стандартным кассам. Если будет выявлено, что среднее время ожидания превышает заявленные 3 минуты, предложить меры по оптимизации процесса обслуживания."
      ],
      "metadata": {
        "id": "bet21DgRS3Gj"
      }
    },
    {
      "cell_type": "markdown",
      "source": [
        "## Цель: анализ стандартных касс\n",
        "\n",
        "---\n",
        "Необходимо провести анализ среднего времени ожидания клиентов в процессе обслуживания на стандартных кассах. Под стандартной кассой понимается касса, где покупатель взаимодействует с кассиром для завершения покупки. Обслуживание на таких кассах осуществляется в следующем порядке:\n",
        "\n",
        "1. Очередь: Покупатели стоят в очереди, ожидая своей очереди подойти к кассе.\n",
        "2. Обслуживание кассиром: Покупатели передают свои товары кассиру, который сканирует или вручную вводит стоимость каждого товара.\n",
        "3. Оплата: Покупатели оплачивают свои покупки через кассира, используя наличные деньги, банковские карты или другие методы оплаты.\n",
        "4. Выдача чека: После оплаты покупатель получает чек и уходит с покупками.\n",
        "\n",
        "---\n",
        "Владелец кафе считает, что среднее время ожидания клиентов в очереди составляет не более 3 минут. Для проверки данной гипотезы необходимо провести оценку всей генеральной совокупности и применить статистические методы."
      ],
      "metadata": {
        "id": "LMF4HVnVVxLt"
      }
    },
    {
      "cell_type": "markdown",
      "source": [
        "##Сбор данных для исследования\n",
        "Процесс сбора данных для анализа:\n",
        "\n",
        "1. В ходе исследования мы случайным образом сформировали выборку, которая позволила получить репрезентативные данные о клиентах кафе.\n",
        "\n",
        "2. Случайный отбор гарантирует учёт множества факторов, таких как время суток и день недели, которые могут влиять на количество посетителей и их предпочтения. Если бы мы проводили отбор только в определённые часы или дни, результаты могли бы быть искажены и не отражать общую картину.\n",
        "\n",
        "3. Такой подход делает результаты исследования более надёжными и обоснованными для всех клиентов кафе, а не только для определённой группы.\n",
        "\n",
        "---"
      ],
      "metadata": {
        "id": "aTu7h_2cXliy"
      }
    },
    {
      "cell_type": "markdown",
      "source": [
        "## Важные уточнения относительно данных\n",
        "\n",
        "1. Каждое наблюдение в выборке времени ожидания является независимым и случайным. Это означает, что время ожидания одного клиента в очереди не влияет на время ожидания другого клиента.\n",
        "\n",
        "2. Мы предполагаем, что время ожидания каждого клиента в очереди имеет одинаковое распределение, которое нам неизвестно.\n",
        "\n",
        "\n",
        "У нас будет 2 выборки, одна выборки из 25 значений, а вторая из 500 значений.\n",
        "3. Выборка состоит из 500 клиентов, что достаточно для оценки среднего времени ожидания с приемлемой точностью и проведения статистических тестов.\n",
        "\n",
        "Данные выборки из 25 наблюдений: https://drive.google.com/file/d/1jdrwqIDYK_l51ZFhxsjK3qSrcUmJ2p52/view?usp=drive_link\n",
        "\n",
        "Данные выборки из 500 наблюдений: https://drive.google.com/file/d/1R_O_EZ0Q-zt0QA_ZHoDJ5bz-cKiM3S3A/view?usp=sharing\n"
      ],
      "metadata": {
        "id": "DHXUInphnXQq"
      }
    },
    {
      "cell_type": "code",
      "execution_count": 2,
      "metadata": {
        "colab": {
          "base_uri": "https://localhost:8080/"
        },
        "id": "wmrHICDmSsEx",
        "outputId": "9d43a198-faf2-458b-c7a5-cc19769a1655"
      },
      "outputs": [
        {
          "output_type": "stream",
          "name": "stdout",
          "text": [
            "/usr/local/lib/python3.10/dist-packages/gdown/__main__.py:140: FutureWarning: Option `--id` was deprecated in version 4.3.1 and will be removed in 5.0. You don't need to pass it anymore to use a file ID.\n",
            "  warnings.warn(\n",
            "Downloading...\n",
            "From: https://drive.google.com/uc?id=1jdrwqIDYK_l51ZFhxsjK3qSrcUmJ2p52\n",
            "To: /content/sample_25.csv\n",
            "100% 472/472 [00:00<00:00, 2.83MB/s]\n",
            "/usr/local/lib/python3.10/dist-packages/gdown/__main__.py:140: FutureWarning: Option `--id` was deprecated in version 4.3.1 and will be removed in 5.0. You don't need to pass it anymore to use a file ID.\n",
            "  warnings.warn(\n",
            "Downloading...\n",
            "From: https://drive.google.com/uc?id=1R_O_EZ0Q-zt0QA_ZHoDJ5bz-cKiM3S3A\n",
            "To: /content/sample_500.csv\n",
            "100% 9.27k/9.27k [00:00<00:00, 21.9MB/s]\n"
          ]
        }
      ],
      "source": [
        "# Загрузка данных\n",
        "!gdown --id 1jdrwqIDYK_l51ZFhxsjK3qSrcUmJ2p52\n",
        "!gdown --id 1R_O_EZ0Q-zt0QA_ZHoDJ5bz-cKiM3S3A"
      ]
    },
    {
      "cell_type": "code",
      "source": [
        "data_25 = pd.read_csv('/content/sample_25.csv', usecols=['sample_25']).squeeze()\n",
        "data_500 = pd.read_csv('/content/sample_500.csv', usecols=['sample_500']).squeeze()"
      ],
      "metadata": {
        "id": "NiY7NzbQo4hs"
      },
      "execution_count": 3,
      "outputs": []
    },
    {
      "cell_type": "code",
      "source": [
        "plt.figure(figsize=(10, 6))\n",
        "plt.grid(True)\n",
        "plt.hist(data_25, bins=15, color='#A5A5A5', edgecolor='black', label='Распределние выборки')\n",
        "plt.title('Распределение времени ожидания в очереди', fontsize=16)\n",
        "plt.xlabel('Время ожидания в очереди', fontsize=12)\n",
        "plt.show()"
      ],
      "metadata": {
        "colab": {
          "base_uri": "https://localhost:8080/",
          "height": 570
        },
        "id": "RVKCap08c6ic",
        "outputId": "2d7d29ee-c683-42ea-dd9b-fb99a5486834"
      },
      "execution_count": 4,
      "outputs": [
        {
          "output_type": "display_data",
          "data": {
            "text/plain": [
              "<Figure size 1000x600 with 1 Axes>"
            ],
            "image/png": "[encoded data removed]"
          },
          "metadata": {}
        }
      ]
    },
    {
      "cell_type": "code",
      "source": [
        "def float_to_min_sec(value):\n",
        "    minutes = int(value)\n",
        "    seconds = round((value - minutes) * 60)\n",
        "    return f\"{minutes}:{seconds:02d}\"\n",
        "\n",
        "float_to_min_sec(np.mean(data_25))"
      ],
      "metadata": {
        "colab": {
          "base_uri": "https://localhost:8080/",
          "height": 36
        },
        "id": "3K3nmc9dtg9x",
        "outputId": "17266f88-aa9b-49b1-a6b1-6f8ed0db6bd4"
      },
      "execution_count": 5,
      "outputs": [
        {
          "output_type": "execute_result",
          "data": {
            "text/plain": [
              "'4:43'"
            ],
            "application/vnd.google.colaboratory.intrinsic+json": {
              "type": "string"
            }
          },
          "metadata": {},
          "execution_count": 5
        }
      ]
    },
    {
      "cell_type": "markdown",
      "source": [
        "## Оценка среднего при маленькой выборке"
      ],
      "metadata": {
        "id": "78Z4n7uzFbAV"
      }
    },
    {
      "cell_type": "markdown",
      "source": [
        "Для применения $t$-оценки необходимо, чтобы выборка была нормально распределена, особенно если она невелика. В таких случаях есть два возможных подхода:\n",
        "\n",
        "1. **Преобразование выборки.**  Можно попытаться преобразовать данные, чтобы привести их к нормальному распределению. Однако, учитывая, что выборка мала, преобразование может не привести к нормальному распределению и не всегда будет иметь значительный эффект.\n",
        "\n",
        "2. **Использовать непараметрический метод.**  Если данные не являются нормальными и выборка мала, разумным подходом будет использование бутстрапирования. Этот метод не требует предположений о распределении данных и может использоваться для оценки среднего и других статистик без необходимости нормальности."
      ],
      "metadata": {
        "id": "Zi32r8Lu_z5k"
      }
    },
    {
      "cell_type": "markdown",
      "source": [
        "\n",
        "---\n",
        "###  Основная идея бутстрапирования\n",
        "\n",
        "Бутстрап — это метод статистической оценки, который позволяет аппроксимировать распределение статистики (например, выборочного среднего) на основе повторных выборок с возвращением из исходных данных.\n",
        "\n",
        "Общий алгоритм для бутстрапирования:\n",
        "- Сгенерирую $B$ бутстрап-выборок с возвращением из исходных данных.\n",
        "Для каждой бутстрап-выборки буду считать среднее.\n",
        "\n",
        "- Построю доверительный интервал для статистики, используя перцентили из полученного распределения бутстрап-оценок.\n",
        "\n",
        "При уровне значимости $\\alpha= .05$,\n",
        "\n",
        "Перцентили = $(\\alpha/2)$  и  $(1-\\alpha/2)$\n",
        "\n",
        "---\n"
      ],
      "metadata": {
        "id": "ZGA9jx8ZJtII"
      }
    },
    {
      "cell_type": "markdown",
      "source": [
        "### Уровень статистической значимости\n",
        "\n",
        "$\\alpha$ - это мера того, насколько мы готовы принять риск ошибиться, делая выводы о генеральной совокупности на основе выборочных данных."
      ],
      "metadata": {
        "id": "A6cieoAELXwX"
      }
    },
    {
      "cell_type": "code",
      "source": [
        "n_iterations = 100000\n",
        "bootstrap_means = np.zeros(n_iterations)\n",
        "\n",
        "for i in range(n_iterations):\n",
        "  bootstrap_means[i] = np.mean(np.random.choice(data_25, size=20, replace=True))\n",
        "\n",
        "lower_percentile = np.percentile(bootstrap_means, 2.5)\n",
        "upper_percentile = np.percentile(bootstrap_means, 97.5)\n",
        "\n",
        "lower_sec = round((lower_percentile-(lower_percentile//1))*60)/100\n",
        "upper_sec = round((upper_percentile-(upper_percentile//1))*60)/100\n",
        "\n",
        "CI_lower = (lower_percentile//1)+lower_sec\n",
        "CI_upper = (upper_percentile//1)+upper_sec\n",
        "\n",
        "\n",
        "print(f\"95%-й доверительный интервал для среднего в минутах: ({CI_lower:.2f}, {CI_upper:.2f})\")"
      ],
      "metadata": {
        "colab": {
          "base_uri": "https://localhost:8080/"
        },
        "id": "R3UWcI50L-B9",
        "outputId": "fc3d64be-0d02-4371-a04f-e6a24aa3c703"
      },
      "execution_count": 19,
      "outputs": [
        {
          "output_type": "stream",
          "name": "stdout",
          "text": [
            "95%-й доверительный интервал для среднего в минутах: (2.57, 6.46)\n"
          ]
        }
      ]
    },
    {
      "cell_type": "code",
      "source": [
        "plt.figure(figsize=(10, 6))\n",
        "plt.hist(np.repeat(data_25, 1000), bins=15, color='#191970', alpha= 0.6,edgecolor='black', label='Распределние выборки')\n",
        "plt.hist(bootstrap_means, bins=50, color='grey', edgecolor='black', alpha=0.8)\n",
        "plt.axvline(lower_percentile, color='r', linestyle='dashed', linewidth=2, label=f'2.5% квантиль ({CI_lower:.2f})')\n",
        "plt.axvline(upper_percentile, color='r', linestyle='dashed', linewidth=2, label=f'97.5% квантиль ({CI_upper:.2f})')\n",
        "plt.title(\"Распределение средних бутстрап-выборок\")\n",
        "plt.xlabel(\"Среднее значение\")\n",
        "plt.ylabel(\"Частота\")\n",
        "plt.legend()\n",
        "plt.show()"
      ],
      "metadata": {
        "colab": {
          "base_uri": "https://localhost:8080/",
          "height": 564
        },
        "id": "kiFa8Axfph_4",
        "outputId": "127dd3f9-6330-48b0-9f13-cd23291cb62e"
      },
      "execution_count": 23,
      "outputs": [
        {
          "output_type": "display_data",
          "data": {
            "text/plain": [
              "<Figure size 1000x600 with 1 Axes>"
            ],
            "image/png": "[encoded data removed]"
          },
          "metadata": {}
        }
      ]
    },
    {
      "cell_type": "markdown",
      "source": [
        "## Вывод"
      ],
      "metadata": {
        "id": "YWzDekBeWThb"
      }
    },
    {
      "cell_type": "markdown",
      "source": [
        "## Оценка среднего при достаточно большой выборке\n"
      ],
      "metadata": {
        "id": "U3lHp2HoYcsb"
      }
    },
    {
      "cell_type": "markdown",
      "source": [
        "В моем распоряжении имеется выборка большего объёма, что позволит мне провести более точные расчёты и проверить гипотезу о среднем значении генеральной совокупности."
      ],
      "metadata": {
        "id": "6ENTapqjYnB_"
      }
    },
    {
      "cell_type": "code",
      "source": [
        "plt.figure(figsize=(10, 6))\n",
        "plt.hist(data_500, bins=55, color='#A5A5A5', edgecolor='black', label='Распределние выборки')\n",
        "plt.title('Распределение времени ожидания в очереди', fontsize=16)\n",
        "plt.xlabel('Время ожидания в очереди', fontsize=12)\n",
        "plt.grid(True)\n",
        "plt.show()"
      ],
      "metadata": {
        "colab": {
          "base_uri": "https://localhost:8080/",
          "height": 570
        },
        "id": "trTVU8wPYmzg",
        "outputId": "0ebb7d01-e240-4339-ea4d-1a53ac83777c"
      },
      "execution_count": 8,
      "outputs": [
        {
          "output_type": "display_data",
          "data": {
            "text/plain": [
              "<Figure size 1000x600 with 1 Axes>"
            ],
            "image/png": "[encoded data removed]"
          },
          "metadata": {}
        }
      ]
    },
    {
      "cell_type": "markdown",
      "source": [
        "## О центральной предельной теореме\n",
        "\n",
        "---\n",
        " Центральная предельная теорема — это фундаментальный результат в теории вероятностей, который утверждает, что при достаточном размере выборки распределение выборочного среднего будет приближаться к нормальному распределению, независимо от того, какое распределение имели исходные данные. Это позволяет применять статистические методы, основанные на нормальном распределении, даже если данные не следуют нормальному распределению.\n",
        "\n",
        " ---\n",
        " ### Условия применения ЦПТ:\n",
        "1. **Независимость** наблюдений в выборке.\n",
        "2. **Достаточный размер выборки**. Обычно рекомендуется использовать выборки размером более 30 наблюдений, но для данных с высоким уровнем вариабельности лучше использовать больше наблюдений.\n",
        "3. **Конечная дисперсия** в данных.\n",
        "\n",
        "---\n",
        "###Центральная предельная теорема\n",
        "\n",
        "Если $X_1, X_2, ..., X_n $ — независимые случайные величины с одинаковым распределением и конечной дисперсией $\\sigma^2 $, то распределение среднего выборки\n",
        "\n",
        "$$\n",
        "\\bar{X}_n = \\frac{1}{n} \\sum_{i=1}^{n} X_i\n",
        "$$\n",
        "\n",
        "сходится к нормальному распределению с параметрами:\n",
        "\n",
        "$$\n",
        "\\bar{X}_n \\sim N \\left( \\mu, \\frac{\\sigma^2}{n} \\right)\n",
        "$$\n",
        "\n",
        "где:\n",
        "- $ \\mu$ — истинное среднее,\n",
        "- $\\sigma^2$ — дисперсия исходных данных,\n",
        "- $n$ — размер выборки."
      ],
      "metadata": {
        "id": "VugT6KLGw0YI"
      }
    },
    {
      "cell_type": "markdown",
      "source": [
        "\n",
        "\n",
        "---\n",
        "ЦПТ позволяет с уверенностью утверждать, что среднее по выборке будет стремиться к нормальному распределению, если размер выборки достаточно велик, что позволяет применять статистические методы, даже если распределение времени ожидания не является нормальным.\n",
        "\n",
        "---\n",
        "Использование доверительных интервалов позволяет оценить диапазон значений, в котором, с определенной вероятностью (например, 95%), находится истинное среднее время ожидания в очереди для всей генеральной совокупности. Таким образом, вместо того, чтобы измерять данные о каждом клиенте, мы можем сделать обоснованные выводы о среднем времени ожидания, основываясь на случайной выборке."
      ],
      "metadata": {
        "id": "JrglDd4i3udM"
      }
    },
    {
      "cell_type": "markdown",
      "source": [
        "### Оценка доверительного интервала для среднего\n",
        "---\n",
        "\n",
        "$$\n",
        "\\bar{x} \\pm z_{\\frac{\\alpha}{2}} \\cdot \\frac{s}{\\sqrt{n}}\n",
        "$$\n",
        "\n",
        "где:\n",
        "- $\\bar{x}$ среднее значение выборки,\n",
        "- $z_{\\frac{\\alpha}{2}}$  квантиль стандартного нормального распределения для нужного уровня значимости при $\\alpha = .05$\n",
        "$z = 1.96$\n",
        "- $s$ — стандартное отклонение выборки,\n",
        "- $n$ — размер выборки.\n",
        "\n",
        "---\n",
        "\n",
        " $$\\frac{s}{\\sqrt{n}} = E.S.E.$$  -\n",
        " Это величина, которая оценивает, насколько выборочное среднее может отклоняться от истинного среднего генеральной совокупности. Она рассчитывается на основе данных выборки и используется, когда стандартное отклонение генеральной совокупности неизвестно.\n",
        "\n",
        " Она используется, чтобы определить, насколько широкий или узкий будет этот интервал вокруг выборочного среднего. Меньшая стандартная ошибка ведет к более узкому доверительному интервалу, что означает большую уверенность в точности оценки.\n"
      ],
      "metadata": {
        "id": "sciuzzl8qoa9"
      }
    },
    {
      "cell_type": "markdown",
      "source": [
        "---\n",
        "\n",
        "Стандатрное отклонение выборки расчитывается так:\n",
        "\n",
        "$$\n",
        "s = \\sqrt{\\frac{1}{n-1} \\sum_{i=1}^{n} (x_i - \\bar{x})^2}\n",
        "$$\n",
        "\n",
        "где:\n",
        "- $ s $ — стандартное отклонение выборки,\n",
        "- $n $ — размер выборки,\n",
        "- $ x_i $ — каждый элемент выборки,\n",
        "- $\\bar{x}$ — среднее выборки.\n"
      ],
      "metadata": {
        "id": "UIxUVZabNefJ"
      }
    },
    {
      "cell_type": "code",
      "source": [
        "mean_500 = np.mean(data_500)\n",
        "s_500 = np.std(data_500, ddof=1)\n",
        "n_500 = len(data_500)\n",
        "z_quant = 1.96\n",
        "\n",
        "ESE = s_500/np.sqrt(n_500)\n",
        "t_value = z_quant*ESE\n",
        "\n",
        "print(f'Оценённая стандартная ошибка = {round(ESE,2)}')\n",
        "print(f'z-статистика =  {round(t_value,2)}')\n",
        "\n",
        "\n",
        "# Переводим в m.s\n",
        "CI_lower = (mean_500 - z_quant * ESE)//1+(round((mean_500 - z_quant * ESE)%((mean_500 - z_quant * ESE)//1)*60)/100)\n",
        "CI_upper = (mean_500 + z_quant * ESE)+(round((mean_500 + z_quant * ESE)%((mean_500 + z_quant * ESE)//1)*60)/100)\n",
        "\n",
        "print('----------------------')\n",
        "print(f'Доверительный интервал для среднего времени в минутах: ({round(CI_lower, 2)}, {round(CI_upper, 2)})')"
      ],
      "metadata": {
        "colab": {
          "base_uri": "https://localhost:8080/"
        },
        "id": "KNDLApmWyOa_",
        "outputId": "723cd665-c326-4095-a010-b6fa49fbb296"
      },
      "execution_count": 9,
      "outputs": [
        {
          "output_type": "stream",
          "name": "stdout",
          "text": [
            "Оценённая стандартная ошибка = 0.17\n",
            "z-статистика =  0.33\n",
            "----------------------\n",
            "Доверительный интервал для среднего времени в минутах: (3.58, 5.02)\n"
          ]
        }
      ]
    },
    {
      "cell_type": "markdown",
      "source": [
        "На основании выборки из 500 значений, можно с 95%-ной уверенностью утверждать, что среднее время ожидания находится в диапазоне от 3.58 до 5.02 минут."
      ],
      "metadata": {
        "id": "0o8pqcwAdbXE"
      }
    },
    {
      "cell_type": "markdown",
      "source": [
        "### Проведение одностороннего t-теста."
      ],
      "metadata": {
        "id": "ID-2NHm2T6Rl"
      }
    },
    {
      "cell_type": "markdown",
      "source": [
        "Односторонний $t$-тест — это статистический тест, который проверяет, значительно ли отличается среднее выборки от заданного гипотетического значения в одном направлении (либо больше, либо меньше).\n",
        "\n",
        "$$t = \\frac{x̄ - μ₀}{\\frac{s} {√n}}$$\n",
        "\n",
        "\n",
        "где:\n",
        "- $x̄$ — выборочное среднее,\n",
        "- $μ₀$ — гипотетическое значение среднего,\n",
        "- $s$ — стандартное отклонение выборки,\n",
        "- $n$ — размер выборки.\n",
        "\n",
        "Гипотезы для одностороннего теста:\n",
        "- **H₀**: μ = μ₀ (нулевая гипотеза),\n",
        "- **H₁**: μ > μ₀ (альтернативная гипотеза).\n",
        "\n",
        "Результат t-статистики сравнивается с критическим значением из t-распределения для заданного уровня значимости α.\n",
        "\n",
        "---\n"
      ],
      "metadata": {
        "id": "GBTZiBR9UNVW"
      }
    },
    {
      "cell_type": "code",
      "source": [
        "# Для преобразования времени в float\n",
        "hours, minutes = map(int, '3:50'.split(':'))\n",
        "time_float = hours + minutes / 60"
      ],
      "metadata": {
        "id": "piCdX8EVpY4E"
      },
      "execution_count": 16,
      "outputs": []
    },
    {
      "cell_type": "code",
      "source": [
        "H_0 =  map(int, '3:50'.split(':'))\n",
        "H_0 = hours + minutes / 60\n",
        "\n",
        "\n",
        "alpha = 0.05\n",
        "mean = mean_500\n",
        "\n",
        "ESE = s_500/np.sqrt(n_500)\n",
        "t_emp = (mean-H_0)/ESE\n",
        "t_theor = 1.96 # по таблице\n",
        "\n",
        "print(f't-статистика: {t_value:.2f}')\n",
        "\n",
        "if abs(t_emp) > t_theor:\n",
        "    print(f\"Отклоняем нулевую гипотезу: среднее значительно больше, чем 3:50\")\n",
        "else:\n",
        "    print(\"Нет оснований отклонять нулевую гипотезу\")"
      ],
      "metadata": {
        "colab": {
          "base_uri": "https://localhost:8080/"
        },
        "id": "Dv4SSyudmYJa",
        "outputId": "04186c2c-bd63-4840-9b93-a02815339a0e"
      },
      "execution_count": 12,
      "outputs": [
        {
          "output_type": "stream",
          "name": "stdout",
          "text": [
            "t-статистика: 0.33\n",
            "Отклоняем нулевую гипотезу: среднее значительно больше, чем 3:50\n"
          ]
        }
      ]
    },
    {
      "cell_type": "markdown",
      "source": [
        "## Мощность статистического теста\n",
        "\n",
        "мощность теста показывает, насколько хорошо статистический тест может обнаружить реальный эффект (например, разницу между группами или отклонение от гипотезы), если этот эффект действительно существует.\n",
        "\n",
        "- В нашем случае мощность теста определяется как доля случаев, когда нулевая гипотеза была отклонена (в отличие от того, что она была истинной).\n",
        "\n",
        "Как правило, перед проведением исследования определяют мощность теста, чтобы установить размер выборки.\n",
        "\n",
        "---\n",
        "**Интуитивный пример:**\n",
        "- Высокая мощность теста (например, 0.8 или 80%): Если эффект существует, тест правильно его обнаружит в 80% случаев.\n",
        "- Низкая мощность теста (например, 0.3 или 30%): Даже если эффект существует, вы \"заметите\" его только в 30% случаев. Это почти как бросание монетки."
      ],
      "metadata": {
        "id": "BI-Vkwqcskq1"
      }
    },
    {
      "cell_type": "code",
      "source": [
        "iterations = 10000  # Количество симуляций\n",
        "reject_null = []\n",
        "\n",
        "for _ in range(iterations):\n",
        "    sample = np.random.normal(mean, s_500, n_500)\n",
        "    x_bar = np.mean(sample)\n",
        "    s = np.std(sample, ddof=1)\n",
        "    t_stat = (x_bar - H_0) / (s / np.sqrt(n_500))\n",
        "    t_critical = 1.96\n",
        "    if abs(t_stat) > t_critical:\n",
        "        reject_null.append(1)\n",
        "    else:\n",
        "        reject_null.append(0)\n",
        "\n",
        "power = np.mean(reject_null)\n",
        "print(f\"Мощность теста: {power}\")"
      ],
      "metadata": {
        "colab": {
          "base_uri": "https://localhost:8080/"
        },
        "id": "Cr5Di69XAmHq",
        "outputId": "78cbca23-9e2f-4c10-b6df-32b6654f3b42"
      },
      "execution_count": 14,
      "outputs": [
        {
          "output_type": "stream",
          "name": "stdout",
          "text": [
            "Мощность теста: 0.7832\n"
          ]
        }
      ]
    },
    {
      "cell_type": "markdown",
      "source": [
        "У меня довольно высокая мощность, хотя я не рассчитывал на неё заранее. Обычно мощность составляет 0,8, но почему не 1? Причины:\n",
        "1.  Чтобы достичь мощности близкой к 100%, нужно увеличивать размер выборки, а это часто невозможно из-за ограничений времени, бюджета или доступа к данным  \n",
        "    \n",
        "  Пример: Для малых эффектов требуется огромная выборка, чтобы добиться мощности в 95% или 99%, что делает исследование практически неосуществимым.\n",
        "\n",
        "2. Риск увеличения ошибок первого рода $α$\n",
        "3. Для многих практических приложений вероятность ошибки второго рода в 20% считается приемлемой.\n",
        "\n",
        "**В целом, $80%$ мощности — это не идеал, а лишь ориентир для принятия разумных решений.**"
      ],
      "metadata": {
        "id": "7PhgOxQ1m-Bu"
      }
    },
    {
      "cell_type": "markdown",
      "source": [
        "Мощность"
      ],
      "metadata": {
        "id": "oG2Pt_-7kpBF"
      }
    },
    {
      "cell_type": "code",
      "source": [],
      "metadata": {
        "id": "9d0kjBwLCJc3"
      },
      "execution_count": 13,
      "outputs": []
    }
  ]
}